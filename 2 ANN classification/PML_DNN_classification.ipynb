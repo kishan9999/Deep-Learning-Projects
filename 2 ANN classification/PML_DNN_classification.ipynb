{
 "cells": [
  {
   "cell_type": "markdown",
   "metadata": {},
   "source": [
    "Importing Libraries"
   ]
  },
  {
   "cell_type": "code",
   "execution_count": 1,
   "metadata": {},
   "outputs": [],
   "source": [
    "import numpy as np\n",
    "import matplotlib.pyplot as plt\n",
    "import pandas as pd"
   ]
  },
  {
   "cell_type": "markdown",
   "metadata": {},
   "source": [
    "## Datasets"
   ]
  },
  {
   "cell_type": "code",
   "execution_count": 2,
   "metadata": {},
   "outputs": [],
   "source": [
    "dataset = pd.read_csv('employee_having_car.csv')"
   ]
  },
  {
   "cell_type": "code",
   "execution_count": 3,
   "metadata": {},
   "outputs": [
    {
     "data": {
      "text/html": [
       "<div>\n",
       "<style scoped>\n",
       "    .dataframe tbody tr th:only-of-type {\n",
       "        vertical-align: middle;\n",
       "    }\n",
       "\n",
       "    .dataframe tbody tr th {\n",
       "        vertical-align: top;\n",
       "    }\n",
       "\n",
       "    .dataframe thead th {\n",
       "        text-align: right;\n",
       "    }\n",
       "</style>\n",
       "<table border=\"1\" class=\"dataframe\">\n",
       "  <thead>\n",
       "    <tr style=\"text-align: right;\">\n",
       "      <th></th>\n",
       "      <th>Unnamed: 0</th>\n",
       "      <th>Age</th>\n",
       "      <th>Gender</th>\n",
       "      <th>Salary</th>\n",
       "      <th>Car</th>\n",
       "    </tr>\n",
       "  </thead>\n",
       "  <tbody>\n",
       "    <tr>\n",
       "      <th>0</th>\n",
       "      <td>0</td>\n",
       "      <td>19</td>\n",
       "      <td>M</td>\n",
       "      <td>30800</td>\n",
       "      <td>0</td>\n",
       "    </tr>\n",
       "    <tr>\n",
       "      <th>1</th>\n",
       "      <td>1</td>\n",
       "      <td>35</td>\n",
       "      <td>M</td>\n",
       "      <td>32000</td>\n",
       "      <td>0</td>\n",
       "    </tr>\n",
       "    <tr>\n",
       "      <th>2</th>\n",
       "      <td>2</td>\n",
       "      <td>26</td>\n",
       "      <td>F</td>\n",
       "      <td>59600</td>\n",
       "      <td>0</td>\n",
       "    </tr>\n",
       "    <tr>\n",
       "      <th>3</th>\n",
       "      <td>3</td>\n",
       "      <td>27</td>\n",
       "      <td>F</td>\n",
       "      <td>76400</td>\n",
       "      <td>0</td>\n",
       "    </tr>\n",
       "    <tr>\n",
       "      <th>4</th>\n",
       "      <td>4</td>\n",
       "      <td>19</td>\n",
       "      <td>M</td>\n",
       "      <td>99200</td>\n",
       "      <td>0</td>\n",
       "    </tr>\n",
       "    <tr>\n",
       "      <th>...</th>\n",
       "      <td>...</td>\n",
       "      <td>...</td>\n",
       "      <td>...</td>\n",
       "      <td>...</td>\n",
       "      <td>...</td>\n",
       "    </tr>\n",
       "    <tr>\n",
       "      <th>375</th>\n",
       "      <td>375</td>\n",
       "      <td>46</td>\n",
       "      <td>F</td>\n",
       "      <td>46400</td>\n",
       "      <td>1</td>\n",
       "    </tr>\n",
       "    <tr>\n",
       "      <th>376</th>\n",
       "      <td>376</td>\n",
       "      <td>46</td>\n",
       "      <td>F</td>\n",
       "      <td>96800</td>\n",
       "      <td>0</td>\n",
       "    </tr>\n",
       "    <tr>\n",
       "      <th>377</th>\n",
       "      <td>377</td>\n",
       "      <td>42</td>\n",
       "      <td>F</td>\n",
       "      <td>71600</td>\n",
       "      <td>0</td>\n",
       "    </tr>\n",
       "    <tr>\n",
       "      <th>378</th>\n",
       "      <td>378</td>\n",
       "      <td>41</td>\n",
       "      <td>M</td>\n",
       "      <td>112400</td>\n",
       "      <td>1</td>\n",
       "    </tr>\n",
       "    <tr>\n",
       "      <th>379</th>\n",
       "      <td>379</td>\n",
       "      <td>58</td>\n",
       "      <td>F</td>\n",
       "      <td>35600</td>\n",
       "      <td>1</td>\n",
       "    </tr>\n",
       "  </tbody>\n",
       "</table>\n",
       "<p>380 rows × 5 columns</p>\n",
       "</div>"
      ],
      "text/plain": [
       "     Unnamed: 0  Age Gender  Salary  Car\n",
       "0             0   19      M   30800    0\n",
       "1             1   35      M   32000    0\n",
       "2             2   26      F   59600    0\n",
       "3             3   27      F   76400    0\n",
       "4             4   19      M   99200    0\n",
       "..          ...  ...    ...     ...  ...\n",
       "375         375   46      F   46400    1\n",
       "376         376   46      F   96800    0\n",
       "377         377   42      F   71600    0\n",
       "378         378   41      M  112400    1\n",
       "379         379   58      F   35600    1\n",
       "\n",
       "[380 rows x 5 columns]"
      ]
     },
     "execution_count": 3,
     "metadata": {},
     "output_type": "execute_result"
    }
   ],
   "source": [
    "dataset"
   ]
  },
  {
   "cell_type": "markdown",
   "metadata": {},
   "source": [
    "Binary Encoding"
   ]
  },
  {
   "cell_type": "code",
   "execution_count": 4,
   "metadata": {},
   "outputs": [],
   "source": [
    "dataset['Gender'] = dataset['Gender'].replace(to_replace=['M','F'], value=[1,0])"
   ]
  },
  {
   "cell_type": "markdown",
   "metadata": {},
   "source": [
    "Features and Labels"
   ]
  },
  {
   "cell_type": "code",
   "execution_count": 5,
   "metadata": {},
   "outputs": [],
   "source": [
    "X = dataset.iloc[:, [1,2,3]].values"
   ]
  },
  {
   "cell_type": "code",
   "execution_count": 6,
   "metadata": {},
   "outputs": [
    {
     "data": {
      "text/plain": [
       "array([[    19,      1,  30800],\n",
       "       [    35,      1,  32000],\n",
       "       [    26,      0,  59600],\n",
       "       [    27,      0,  76400],\n",
       "       [    19,      1,  99200],\n",
       "       [    27,      1,  77600],\n",
       "       [    27,      0, 108800],\n",
       "       [    32,      0, 188000],\n",
       "       [    25,      1,  47600],\n",
       "       [    35,      0,  86000]], dtype=int64)"
      ]
     },
     "execution_count": 6,
     "metadata": {},
     "output_type": "execute_result"
    }
   ],
   "source": [
    "X[:10]"
   ]
  },
  {
   "cell_type": "code",
   "execution_count": 7,
   "metadata": {},
   "outputs": [
    {
     "data": {
      "text/plain": [
       "(380, 3)"
      ]
     },
     "execution_count": 7,
     "metadata": {},
     "output_type": "execute_result"
    }
   ],
   "source": [
    "X.shape"
   ]
  },
  {
   "cell_type": "code",
   "execution_count": 8,
   "metadata": {},
   "outputs": [],
   "source": [
    "y = dataset.iloc[:, -1].values"
   ]
  },
  {
   "cell_type": "code",
   "execution_count": 9,
   "metadata": {},
   "outputs": [
    {
     "data": {
      "text/plain": [
       "array([0, 0, 0, 0, 0, 0, 0, 1, 0, 0], dtype=int64)"
      ]
     },
     "execution_count": 9,
     "metadata": {},
     "output_type": "execute_result"
    }
   ],
   "source": [
    "y[:10]"
   ]
  },
  {
   "cell_type": "code",
   "execution_count": 10,
   "metadata": {},
   "outputs": [
    {
     "data": {
      "text/plain": [
       "(380, 3)"
      ]
     },
     "execution_count": 10,
     "metadata": {},
     "output_type": "execute_result"
    }
   ],
   "source": [
    "X.shape"
   ]
  },
  {
   "cell_type": "code",
   "execution_count": 11,
   "metadata": {},
   "outputs": [
    {
     "data": {
      "text/plain": [
       "(380,)"
      ]
     },
     "execution_count": 11,
     "metadata": {},
     "output_type": "execute_result"
    }
   ],
   "source": [
    "y.shape"
   ]
  },
  {
   "cell_type": "markdown",
   "metadata": {},
   "source": [
    "feature scaling"
   ]
  },
  {
   "cell_type": "code",
   "execution_count": 12,
   "metadata": {},
   "outputs": [],
   "source": [
    "from sklearn.preprocessing import StandardScaler\n",
    "scaler = StandardScaler()"
   ]
  },
  {
   "cell_type": "code",
   "execution_count": 13,
   "metadata": {},
   "outputs": [],
   "source": [
    "X = scaler.fit_transform(X)"
   ]
  },
  {
   "cell_type": "code",
   "execution_count": 14,
   "metadata": {},
   "outputs": [
    {
     "name": "stdout",
     "output_type": "stream",
     "text": [
      "[[-1.74324685  1.02667135 -1.53470083]\n",
      " [-0.20538544  1.02667135 -1.50522614]\n",
      " [-1.07043248 -0.97402153 -0.82730815]\n",
      " [-0.97431614 -0.97402153 -0.41466242]\n",
      " [-1.74324685  1.02667135  0.14535679]\n",
      " [-0.97431614  1.02667135 -0.38518773]\n",
      " [-0.97431614 -0.97402153  0.38115435]\n",
      " [-0.49373445 -0.97402153  2.32648422]\n",
      " [-1.16654882  1.02667135 -1.1220551 ]\n",
      " [-0.20538544 -0.97402153 -0.17886486]]\n"
     ]
    }
   ],
   "source": [
    "print(X[:10])"
   ]
  },
  {
   "cell_type": "markdown",
   "metadata": {},
   "source": [
    "Splitting the dataset"
   ]
  },
  {
   "cell_type": "code",
   "execution_count": 15,
   "metadata": {},
   "outputs": [],
   "source": [
    "from sklearn.model_selection import train_test_split"
   ]
  },
  {
   "cell_type": "code",
   "execution_count": 16,
   "metadata": {},
   "outputs": [],
   "source": [
    "X_train, X_test, y_train, y_test = train_test_split(X, y, test_size = 0.2, random_state = 3)"
   ]
  },
  {
   "cell_type": "code",
   "execution_count": 17,
   "metadata": {},
   "outputs": [
    {
     "name": "stdout",
     "output_type": "stream",
     "text": [
      "[[-1.64713051 -0.97402153  0.32220496]\n",
      " [ 1.33247597 -0.97402153  1.8548891 ]\n",
      " [ 0.46742893 -0.97402153  0.26325557]\n",
      " [ 0.75577794 -0.97402153 -1.44627675]\n",
      " [ 0.85189428 -0.97402153 -1.44627675]\n",
      " [ 2.19752302  1.02667135  0.35167965]\n",
      " [ 0.46742893  1.02667135 -0.50308651]\n",
      " [ 2.00529034 -0.97402153 -1.41680205]\n",
      " [-1.64713051 -0.97402153 -1.03363102]\n",
      " [ 0.17907991  1.02667135  0.17483148]]\n"
     ]
    }
   ],
   "source": [
    "print(X_train[:10])"
   ]
  },
  {
   "cell_type": "code",
   "execution_count": 18,
   "metadata": {},
   "outputs": [
    {
     "data": {
      "text/plain": [
       "(304, 3)"
      ]
     },
     "execution_count": 18,
     "metadata": {},
     "output_type": "execute_result"
    }
   ],
   "source": [
    "X_train.shape"
   ]
  },
  {
   "cell_type": "code",
   "execution_count": 19,
   "metadata": {},
   "outputs": [
    {
     "data": {
      "text/plain": [
       "(76, 3)"
      ]
     },
     "execution_count": 19,
     "metadata": {},
     "output_type": "execute_result"
    }
   ],
   "source": [
    "X_test.shape"
   ]
  },
  {
   "cell_type": "code",
   "execution_count": 20,
   "metadata": {},
   "outputs": [
    {
     "data": {
      "text/plain": [
       "(304,)"
      ]
     },
     "execution_count": 20,
     "metadata": {},
     "output_type": "execute_result"
    }
   ],
   "source": [
    "y_train.shape"
   ]
  },
  {
   "cell_type": "code",
   "execution_count": 21,
   "metadata": {},
   "outputs": [
    {
     "data": {
      "text/plain": [
       "(76,)"
      ]
     },
     "execution_count": 21,
     "metadata": {},
     "output_type": "execute_result"
    }
   ],
   "source": [
    "y_test.shape"
   ]
  },
  {
   "cell_type": "markdown",
   "metadata": {},
   "source": [
    "## Model Setup"
   ]
  },
  {
   "cell_type": "code",
   "execution_count": 22,
   "metadata": {},
   "outputs": [],
   "source": [
    "from tensorflow.keras.models import Sequential\n",
    "from tensorflow.keras.layers import Dense\n",
    "\n",
    "model = Sequential()\n",
    "model.add(Dense(4, input_dim=3, activation='relu'))\n",
    "model.add(Dense(10, activation='relu'))\n",
    "model.add(Dense(5, activation='relu'))\n",
    "model.add(Dense(1,activation='sigmoid'))   # softmax"
   ]
  },
  {
   "cell_type": "code",
   "execution_count": 23,
   "metadata": {},
   "outputs": [
    {
     "name": "stdout",
     "output_type": "stream",
     "text": [
      "Model: \"sequential\"\n",
      "_________________________________________________________________\n",
      "Layer (type)                 Output Shape              Param #   \n",
      "=================================================================\n",
      "dense (Dense)                (None, 4)                 16        \n",
      "_________________________________________________________________\n",
      "dense_1 (Dense)              (None, 10)                50        \n",
      "_________________________________________________________________\n",
      "dense_2 (Dense)              (None, 5)                 55        \n",
      "_________________________________________________________________\n",
      "dense_3 (Dense)              (None, 1)                 6         \n",
      "=================================================================\n",
      "Total params: 127\n",
      "Trainable params: 127\n",
      "Non-trainable params: 0\n",
      "_________________________________________________________________\n"
     ]
    }
   ],
   "source": [
    "model.summary()"
   ]
  },
  {
   "cell_type": "markdown",
   "metadata": {},
   "source": [
    "## Training"
   ]
  },
  {
   "cell_type": "code",
   "execution_count": 24,
   "metadata": {},
   "outputs": [],
   "source": [
    "model.compile(loss='bce', optimizer='adam', metrics=['accuracy'])  # categorical_crossentropy"
   ]
  },
  {
   "cell_type": "code",
   "execution_count": 25,
   "metadata": {},
   "outputs": [
    {
     "name": "stdout",
     "output_type": "stream",
     "text": [
      "Epoch 1/100\n",
      " 1/19 [>.............................] - ETA: 0s - loss: 0.6914 - accuracy: 0.3750WARNING:tensorflow:Callbacks method `on_train_batch_end` is slow compared to the batch time (batch time: 0.0000s vs `on_train_batch_end` time: 0.0010s). Check your callbacks.\n",
      "19/19 [==============================] - 0s 10ms/step - loss: 0.6764 - accuracy: 0.6480 - val_loss: 0.6642 - val_accuracy: 0.7632\n",
      "Epoch 2/100\n",
      "19/19 [==============================] - 0s 1ms/step - loss: 0.6434 - accuracy: 0.7993 - val_loss: 0.6390 - val_accuracy: 0.7895\n",
      "Epoch 3/100\n",
      "19/19 [==============================] - 0s 1ms/step - loss: 0.6166 - accuracy: 0.8092 - val_loss: 0.6167 - val_accuracy: 0.7895\n",
      "Epoch 4/100\n",
      "19/19 [==============================] - 0s 1ms/step - loss: 0.5905 - accuracy: 0.8059 - val_loss: 0.5928 - val_accuracy: 0.8026\n",
      "Epoch 5/100\n",
      "19/19 [==============================] - 0s 1ms/step - loss: 0.5638 - accuracy: 0.8092 - val_loss: 0.5674 - val_accuracy: 0.8158\n",
      "Epoch 6/100\n",
      "19/19 [==============================] - 0s 1ms/step - loss: 0.5365 - accuracy: 0.8125 - val_loss: 0.5410 - val_accuracy: 0.8158\n",
      "Epoch 7/100\n",
      "19/19 [==============================] - 0s 1ms/step - loss: 0.5117 - accuracy: 0.8191 - val_loss: 0.5146 - val_accuracy: 0.8289\n",
      "Epoch 8/100\n",
      "19/19 [==============================] - 0s 1ms/step - loss: 0.4863 - accuracy: 0.8191 - val_loss: 0.4897 - val_accuracy: 0.8289\n",
      "Epoch 9/100\n",
      "19/19 [==============================] - 0s 1ms/step - loss: 0.4626 - accuracy: 0.8191 - val_loss: 0.4661 - val_accuracy: 0.8421\n",
      "Epoch 10/100\n",
      "19/19 [==============================] - 0s 1ms/step - loss: 0.4400 - accuracy: 0.8224 - val_loss: 0.4448 - val_accuracy: 0.8289\n",
      "Epoch 11/100\n",
      "19/19 [==============================] - 0s 1ms/step - loss: 0.4196 - accuracy: 0.8289 - val_loss: 0.4250 - val_accuracy: 0.8421\n",
      "Epoch 12/100\n",
      "19/19 [==============================] - 0s 1ms/step - loss: 0.4011 - accuracy: 0.8388 - val_loss: 0.4079 - val_accuracy: 0.8289\n",
      "Epoch 13/100\n",
      "19/19 [==============================] - 0s 1ms/step - loss: 0.3846 - accuracy: 0.8388 - val_loss: 0.3935 - val_accuracy: 0.8289\n",
      "Epoch 14/100\n",
      "19/19 [==============================] - 0s 1ms/step - loss: 0.3706 - accuracy: 0.8421 - val_loss: 0.3808 - val_accuracy: 0.8421\n",
      "Epoch 15/100\n",
      "19/19 [==============================] - 0s 1ms/step - loss: 0.3589 - accuracy: 0.8421 - val_loss: 0.3712 - val_accuracy: 0.8421\n",
      "Epoch 16/100\n",
      "19/19 [==============================] - 0s 1ms/step - loss: 0.3496 - accuracy: 0.8454 - val_loss: 0.3627 - val_accuracy: 0.8026\n",
      "Epoch 17/100\n",
      "19/19 [==============================] - 0s 1ms/step - loss: 0.3419 - accuracy: 0.8454 - val_loss: 0.3545 - val_accuracy: 0.8158\n",
      "Epoch 18/100\n",
      "19/19 [==============================] - 0s 1ms/step - loss: 0.3345 - accuracy: 0.8487 - val_loss: 0.3491 - val_accuracy: 0.8158\n",
      "Epoch 19/100\n",
      "19/19 [==============================] - 0s 1ms/step - loss: 0.3292 - accuracy: 0.8487 - val_loss: 0.3433 - val_accuracy: 0.8158\n",
      "Epoch 20/100\n",
      "19/19 [==============================] - 0s 1ms/step - loss: 0.3234 - accuracy: 0.8520 - val_loss: 0.3355 - val_accuracy: 0.8158\n",
      "Epoch 21/100\n",
      "19/19 [==============================] - 0s 1ms/step - loss: 0.3180 - accuracy: 0.8586 - val_loss: 0.3313 - val_accuracy: 0.8158\n",
      "Epoch 22/100\n",
      "19/19 [==============================] - 0s 1ms/step - loss: 0.3146 - accuracy: 0.8553 - val_loss: 0.3255 - val_accuracy: 0.8158\n",
      "Epoch 23/100\n",
      "19/19 [==============================] - 0s 1ms/step - loss: 0.3091 - accuracy: 0.8586 - val_loss: 0.3259 - val_accuracy: 0.7895\n",
      "Epoch 24/100\n",
      "19/19 [==============================] - 0s 1ms/step - loss: 0.3056 - accuracy: 0.8586 - val_loss: 0.3226 - val_accuracy: 0.7895\n",
      "Epoch 25/100\n",
      "19/19 [==============================] - 0s 1ms/step - loss: 0.3029 - accuracy: 0.8618 - val_loss: 0.3218 - val_accuracy: 0.7895\n",
      "Epoch 26/100\n",
      "19/19 [==============================] - 0s 1ms/step - loss: 0.3003 - accuracy: 0.8651 - val_loss: 0.3200 - val_accuracy: 0.7895\n",
      "Epoch 27/100\n",
      "19/19 [==============================] - 0s 1ms/step - loss: 0.2986 - accuracy: 0.8586 - val_loss: 0.3176 - val_accuracy: 0.7895\n",
      "Epoch 28/100\n",
      "19/19 [==============================] - 0s 1ms/step - loss: 0.2957 - accuracy: 0.8651 - val_loss: 0.3174 - val_accuracy: 0.7895\n",
      "Epoch 29/100\n",
      "19/19 [==============================] - 0s 1ms/step - loss: 0.2937 - accuracy: 0.8717 - val_loss: 0.3177 - val_accuracy: 0.7895\n",
      "Epoch 30/100\n",
      "19/19 [==============================] - 0s 1ms/step - loss: 0.2931 - accuracy: 0.8717 - val_loss: 0.3188 - val_accuracy: 0.8026\n",
      "Epoch 31/100\n",
      "19/19 [==============================] - 0s 1ms/step - loss: 0.2920 - accuracy: 0.8684 - val_loss: 0.3116 - val_accuracy: 0.8026\n",
      "Epoch 32/100\n",
      "19/19 [==============================] - 0s 1ms/step - loss: 0.2881 - accuracy: 0.8717 - val_loss: 0.3125 - val_accuracy: 0.8026\n",
      "Epoch 33/100\n",
      "19/19 [==============================] - 0s 1ms/step - loss: 0.2869 - accuracy: 0.8684 - val_loss: 0.3145 - val_accuracy: 0.8026\n",
      "Epoch 34/100\n",
      "19/19 [==============================] - 0s 2ms/step - loss: 0.2851 - accuracy: 0.8717 - val_loss: 0.3124 - val_accuracy: 0.8026\n",
      "Epoch 35/100\n",
      "19/19 [==============================] - 0s 1ms/step - loss: 0.2834 - accuracy: 0.8684 - val_loss: 0.3099 - val_accuracy: 0.8026\n",
      "Epoch 36/100\n",
      "19/19 [==============================] - 0s 1ms/step - loss: 0.2835 - accuracy: 0.8717 - val_loss: 0.3095 - val_accuracy: 0.8026\n",
      "Epoch 37/100\n",
      "19/19 [==============================] - 0s 1ms/step - loss: 0.2807 - accuracy: 0.8750 - val_loss: 0.3054 - val_accuracy: 0.8158\n",
      "Epoch 38/100\n",
      "19/19 [==============================] - 0s 1ms/step - loss: 0.2794 - accuracy: 0.8717 - val_loss: 0.3043 - val_accuracy: 0.8158\n",
      "Epoch 39/100\n",
      "19/19 [==============================] - 0s 1ms/step - loss: 0.2795 - accuracy: 0.8783 - val_loss: 0.3073 - val_accuracy: 0.8289\n",
      "Epoch 40/100\n",
      "19/19 [==============================] - 0s 1ms/step - loss: 0.2768 - accuracy: 0.8783 - val_loss: 0.3027 - val_accuracy: 0.8289\n",
      "Epoch 41/100\n",
      "19/19 [==============================] - 0s 1ms/step - loss: 0.2762 - accuracy: 0.8750 - val_loss: 0.3032 - val_accuracy: 0.8421\n",
      "Epoch 42/100\n",
      "19/19 [==============================] - 0s 1ms/step - loss: 0.2750 - accuracy: 0.8717 - val_loss: 0.2986 - val_accuracy: 0.8421\n",
      "Epoch 43/100\n",
      "19/19 [==============================] - 0s 1ms/step - loss: 0.2746 - accuracy: 0.8816 - val_loss: 0.3010 - val_accuracy: 0.8421\n",
      "Epoch 44/100\n",
      "19/19 [==============================] - 0s 1ms/step - loss: 0.2724 - accuracy: 0.8816 - val_loss: 0.2993 - val_accuracy: 0.8421\n",
      "Epoch 45/100\n",
      "19/19 [==============================] - 0s 1ms/step - loss: 0.2709 - accuracy: 0.8816 - val_loss: 0.2974 - val_accuracy: 0.8421\n",
      "Epoch 46/100\n",
      "19/19 [==============================] - 0s 1ms/step - loss: 0.2700 - accuracy: 0.8849 - val_loss: 0.2978 - val_accuracy: 0.8421\n",
      "Epoch 47/100\n",
      "19/19 [==============================] - 0s 1ms/step - loss: 0.2690 - accuracy: 0.8849 - val_loss: 0.2962 - val_accuracy: 0.8421\n",
      "Epoch 48/100\n",
      "19/19 [==============================] - 0s 1ms/step - loss: 0.2687 - accuracy: 0.8816 - val_loss: 0.2932 - val_accuracy: 0.8421\n",
      "Epoch 49/100\n",
      "19/19 [==============================] - 0s 1ms/step - loss: 0.2666 - accuracy: 0.8849 - val_loss: 0.2956 - val_accuracy: 0.8421\n",
      "Epoch 50/100\n",
      "19/19 [==============================] - 0s 1ms/step - loss: 0.2668 - accuracy: 0.8849 - val_loss: 0.2936 - val_accuracy: 0.8421\n",
      "Epoch 51/100\n",
      "19/19 [==============================] - 0s 1ms/step - loss: 0.2651 - accuracy: 0.8849 - val_loss: 0.2930 - val_accuracy: 0.8421\n",
      "Epoch 52/100\n",
      "19/19 [==============================] - 0s 1ms/step - loss: 0.2648 - accuracy: 0.8914 - val_loss: 0.2909 - val_accuracy: 0.8553\n",
      "Epoch 53/100\n",
      "19/19 [==============================] - 0s 1ms/step - loss: 0.2634 - accuracy: 0.8849 - val_loss: 0.2931 - val_accuracy: 0.8421\n",
      "Epoch 54/100\n",
      "19/19 [==============================] - 0s 1ms/step - loss: 0.2624 - accuracy: 0.8816 - val_loss: 0.2907 - val_accuracy: 0.8421\n",
      "Epoch 55/100\n",
      "19/19 [==============================] - 0s 1ms/step - loss: 0.2615 - accuracy: 0.8816 - val_loss: 0.2897 - val_accuracy: 0.8553\n",
      "Epoch 56/100\n",
      "19/19 [==============================] - 0s 1ms/step - loss: 0.2603 - accuracy: 0.8882 - val_loss: 0.2888 - val_accuracy: 0.8684\n"
     ]
    },
    {
     "name": "stdout",
     "output_type": "stream",
     "text": [
      "Epoch 57/100\n",
      "19/19 [==============================] - 0s 1ms/step - loss: 0.2594 - accuracy: 0.8914 - val_loss: 0.2869 - val_accuracy: 0.8553\n",
      "Epoch 58/100\n",
      "19/19 [==============================] - 0s 1ms/step - loss: 0.2586 - accuracy: 0.8882 - val_loss: 0.2856 - val_accuracy: 0.8553\n",
      "Epoch 59/100\n",
      "19/19 [==============================] - 0s 1ms/step - loss: 0.2584 - accuracy: 0.8914 - val_loss: 0.2846 - val_accuracy: 0.8553\n",
      "Epoch 60/100\n",
      "19/19 [==============================] - 0s 1ms/step - loss: 0.2577 - accuracy: 0.8914 - val_loss: 0.2895 - val_accuracy: 0.8684\n",
      "Epoch 61/100\n",
      "19/19 [==============================] - 0s 1ms/step - loss: 0.2559 - accuracy: 0.8914 - val_loss: 0.2862 - val_accuracy: 0.8684\n",
      "Epoch 62/100\n",
      "19/19 [==============================] - 0s 1ms/step - loss: 0.2553 - accuracy: 0.8914 - val_loss: 0.2838 - val_accuracy: 0.8684\n",
      "Epoch 63/100\n",
      "19/19 [==============================] - 0s 1ms/step - loss: 0.2547 - accuracy: 0.8947 - val_loss: 0.2844 - val_accuracy: 0.8553\n",
      "Epoch 64/100\n",
      "19/19 [==============================] - 0s 1ms/step - loss: 0.2541 - accuracy: 0.8980 - val_loss: 0.2849 - val_accuracy: 0.8684\n",
      "Epoch 65/100\n",
      "19/19 [==============================] - 0s 1ms/step - loss: 0.2526 - accuracy: 0.9013 - val_loss: 0.2815 - val_accuracy: 0.8684\n",
      "Epoch 66/100\n",
      "19/19 [==============================] - 0s 1ms/step - loss: 0.2516 - accuracy: 0.9013 - val_loss: 0.2827 - val_accuracy: 0.8684\n",
      "Epoch 67/100\n",
      "19/19 [==============================] - 0s 1ms/step - loss: 0.2514 - accuracy: 0.8980 - val_loss: 0.2830 - val_accuracy: 0.8684\n",
      "Epoch 68/100\n",
      "19/19 [==============================] - 0s 1ms/step - loss: 0.2497 - accuracy: 0.9013 - val_loss: 0.2806 - val_accuracy: 0.8684\n",
      "Epoch 69/100\n",
      "19/19 [==============================] - 0s 1ms/step - loss: 0.2501 - accuracy: 0.9013 - val_loss: 0.2775 - val_accuracy: 0.8684\n",
      "Epoch 70/100\n",
      "19/19 [==============================] - 0s 1ms/step - loss: 0.2486 - accuracy: 0.9013 - val_loss: 0.2791 - val_accuracy: 0.8684\n",
      "Epoch 71/100\n",
      "19/19 [==============================] - 0s 1ms/step - loss: 0.2488 - accuracy: 0.9013 - val_loss: 0.2807 - val_accuracy: 0.8684\n",
      "Epoch 72/100\n",
      "19/19 [==============================] - 0s 1ms/step - loss: 0.2476 - accuracy: 0.9013 - val_loss: 0.2771 - val_accuracy: 0.8684\n",
      "Epoch 73/100\n",
      "19/19 [==============================] - 0s 1ms/step - loss: 0.2469 - accuracy: 0.9013 - val_loss: 0.2783 - val_accuracy: 0.8684\n",
      "Epoch 74/100\n",
      "19/19 [==============================] - 0s 1ms/step - loss: 0.2461 - accuracy: 0.9013 - val_loss: 0.2760 - val_accuracy: 0.8684\n",
      "Epoch 75/100\n",
      "19/19 [==============================] - 0s 1ms/step - loss: 0.2456 - accuracy: 0.9013 - val_loss: 0.2764 - val_accuracy: 0.8684\n",
      "Epoch 76/100\n",
      "19/19 [==============================] - 0s 1ms/step - loss: 0.2449 - accuracy: 0.8947 - val_loss: 0.2764 - val_accuracy: 0.8684\n",
      "Epoch 77/100\n",
      "19/19 [==============================] - 0s 1ms/step - loss: 0.2447 - accuracy: 0.8980 - val_loss: 0.2767 - val_accuracy: 0.8684\n",
      "Epoch 78/100\n",
      "19/19 [==============================] - 0s 1ms/step - loss: 0.2436 - accuracy: 0.8980 - val_loss: 0.2779 - val_accuracy: 0.8684\n",
      "Epoch 79/100\n",
      "19/19 [==============================] - 0s 1ms/step - loss: 0.2433 - accuracy: 0.8980 - val_loss: 0.2737 - val_accuracy: 0.8816\n",
      "Epoch 80/100\n",
      "19/19 [==============================] - 0s 1ms/step - loss: 0.2427 - accuracy: 0.8914 - val_loss: 0.2740 - val_accuracy: 0.8816\n",
      "Epoch 81/100\n",
      "19/19 [==============================] - 0s 1ms/step - loss: 0.2428 - accuracy: 0.9013 - val_loss: 0.2775 - val_accuracy: 0.8684\n",
      "Epoch 82/100\n",
      "19/19 [==============================] - 0s 1ms/step - loss: 0.2419 - accuracy: 0.8980 - val_loss: 0.2741 - val_accuracy: 0.8816\n",
      "Epoch 83/100\n",
      "19/19 [==============================] - 0s 1ms/step - loss: 0.2411 - accuracy: 0.8980 - val_loss: 0.2748 - val_accuracy: 0.8816\n",
      "Epoch 84/100\n",
      "19/19 [==============================] - 0s 1ms/step - loss: 0.2421 - accuracy: 0.9079 - val_loss: 0.2765 - val_accuracy: 0.8816\n",
      "Epoch 85/100\n",
      "19/19 [==============================] - 0s 1ms/step - loss: 0.2401 - accuracy: 0.9013 - val_loss: 0.2734 - val_accuracy: 0.8816\n",
      "Epoch 86/100\n",
      "19/19 [==============================] - 0s 1ms/step - loss: 0.2401 - accuracy: 0.8980 - val_loss: 0.2717 - val_accuracy: 0.8816\n",
      "Epoch 87/100\n",
      "19/19 [==============================] - 0s 1ms/step - loss: 0.2393 - accuracy: 0.9046 - val_loss: 0.2739 - val_accuracy: 0.8816\n",
      "Epoch 88/100\n",
      "19/19 [==============================] - 0s 1ms/step - loss: 0.2392 - accuracy: 0.9079 - val_loss: 0.2740 - val_accuracy: 0.8816\n",
      "Epoch 89/100\n",
      "19/19 [==============================] - 0s 1ms/step - loss: 0.2387 - accuracy: 0.9079 - val_loss: 0.2726 - val_accuracy: 0.8816\n",
      "Epoch 90/100\n",
      "19/19 [==============================] - 0s 1ms/step - loss: 0.2381 - accuracy: 0.9079 - val_loss: 0.2729 - val_accuracy: 0.8816\n",
      "Epoch 91/100\n",
      "19/19 [==============================] - 0s 1ms/step - loss: 0.2376 - accuracy: 0.9079 - val_loss: 0.2713 - val_accuracy: 0.8947\n",
      "Epoch 92/100\n",
      "19/19 [==============================] - 0s 1ms/step - loss: 0.2376 - accuracy: 0.9046 - val_loss: 0.2722 - val_accuracy: 0.8816\n",
      "Epoch 93/100\n",
      "19/19 [==============================] - 0s 1ms/step - loss: 0.2370 - accuracy: 0.9112 - val_loss: 0.2733 - val_accuracy: 0.8816\n",
      "Epoch 94/100\n",
      "19/19 [==============================] - 0s 1ms/step - loss: 0.2370 - accuracy: 0.9079 - val_loss: 0.2723 - val_accuracy: 0.8816\n",
      "Epoch 95/100\n",
      "19/19 [==============================] - 0s 1ms/step - loss: 0.2364 - accuracy: 0.9112 - val_loss: 0.2746 - val_accuracy: 0.8816\n",
      "Epoch 96/100\n",
      "19/19 [==============================] - 0s 1ms/step - loss: 0.2362 - accuracy: 0.9112 - val_loss: 0.2716 - val_accuracy: 0.8947\n",
      "Epoch 97/100\n",
      "19/19 [==============================] - 0s 1ms/step - loss: 0.2354 - accuracy: 0.9112 - val_loss: 0.2719 - val_accuracy: 0.8947\n",
      "Epoch 98/100\n",
      "19/19 [==============================] - 0s 1ms/step - loss: 0.2361 - accuracy: 0.9112 - val_loss: 0.2727 - val_accuracy: 0.8816\n",
      "Epoch 99/100\n",
      "19/19 [==============================] - 0s 1ms/step - loss: 0.2348 - accuracy: 0.9112 - val_loss: 0.2724 - val_accuracy: 0.8947\n",
      "Epoch 100/100\n",
      "19/19 [==============================] - 0s 1ms/step - loss: 0.2348 - accuracy: 0.9112 - val_loss: 0.2721 - val_accuracy: 0.8947\n"
     ]
    }
   ],
   "source": [
    "hist = model.fit(x = X_train, y = y_train, batch_size=16, validation_data=(X_test,y_test), epochs=100,verbose=1)"
   ]
  },
  {
   "cell_type": "code",
   "execution_count": 26,
   "metadata": {},
   "outputs": [
    {
     "data": {
      "image/png": "[encoded data removed]",
      "text/plain": [
       "<Figure size 432x288 with 1 Axes>"
      ]
     },
     "metadata": {
      "needs_background": "light"
     },
     "output_type": "display_data"
    }
   ],
   "source": [
    "plt.plot(hist.history['accuracy'])\n",
    "plt.plot(hist.history['val_accuracy'])\n",
    "plt.title('history: the CNN model accuracy')\n",
    "plt.ylabel('accuracy')\n",
    "plt.xlabel('epoch')\n",
    "plt.legend(['train', 'test'], loc='lower right')\n",
    "plt.show()"
   ]
  },
  {
   "cell_type": "code",
   "execution_count": 27,
   "metadata": {},
   "outputs": [
    {
     "data": {
      "image/png": "[encoded data removed]",
      "text/plain": [
       "<Figure size 432x288 with 1 Axes>"
      ]
     },
     "metadata": {
      "needs_background": "light"
     },
     "output_type": "display_data"
    }
   ],
   "source": [
    "plt.plot(hist.history['loss'])\n",
    "plt.plot(hist.history['val_loss'])\n",
    "plt.title('history: the CNN model loss')\n",
    "plt.ylabel('loss')\n",
    "plt.xlabel('epoch')\n",
    "plt.legend(['train', 'test'], loc='upper right')\n",
    "plt.show()"
   ]
  },
  {
   "cell_type": "markdown",
   "metadata": {},
   "source": [
    "## Evaluating Model"
   ]
  },
  {
   "cell_type": "markdown",
   "metadata": {},
   "source": [
    "Predicting on Test data"
   ]
  },
  {
   "cell_type": "code",
   "execution_count": 28,
   "metadata": {},
   "outputs": [],
   "source": [
    "y_pred = model.predict(X_test)"
   ]
  },
  {
   "cell_type": "code",
   "execution_count": 29,
   "metadata": {},
   "outputs": [],
   "source": [
    "y_pred = np.where(y_pred>0.5,1,0)"
   ]
  },
  {
   "cell_type": "code",
   "execution_count": 30,
   "metadata": {},
   "outputs": [
    {
     "data": {
      "text/plain": [
       "[(0, 0),\n",
       " (1, 1),\n",
       " (1, 0),\n",
       " (1, 1),\n",
       " (0, 1),\n",
       " (0, 0),\n",
       " (1, 1),\n",
       " (0, 0),\n",
       " (0, 0),\n",
       " (1, 1)]"
      ]
     },
     "execution_count": 30,
     "metadata": {},
     "output_type": "execute_result"
    }
   ],
   "source": [
    "yy = list(zip(y_test, y_pred[:,0]))\n",
    "\n",
    "yy[:10]"
   ]
  },
  {
   "cell_type": "markdown",
   "metadata": {},
   "source": [
    "metrics"
   ]
  },
  {
   "cell_type": "markdown",
   "metadata": {},
   "source": [
    "https://scikit-learn.org/stable/modules/classes.html#module-sklearn.metrics"
   ]
  },
  {
   "cell_type": "code",
   "execution_count": 31,
   "metadata": {},
   "outputs": [],
   "source": [
    "from sklearn.metrics import accuracy_score, confusion_matrix   "
   ]
  },
  {
   "cell_type": "code",
   "execution_count": 32,
   "metadata": {},
   "outputs": [
    {
     "data": {
      "text/plain": [
       "89.47368421052632"
      ]
     },
     "execution_count": 32,
     "metadata": {},
     "output_type": "execute_result"
    }
   ],
   "source": [
    "accuracy_score(y_test,y_pred)*100"
   ]
  },
  {
   "cell_type": "code",
   "execution_count": 33,
   "metadata": {},
   "outputs": [],
   "source": [
    "cm = confusion_matrix(y_test, y_pred)"
   ]
  },
  {
   "cell_type": "code",
   "execution_count": 34,
   "metadata": {},
   "outputs": [
    {
     "data": {
      "text/plain": [
       "array([[46,  6],\n",
       "       [ 2, 22]], dtype=int64)"
      ]
     },
     "execution_count": 34,
     "metadata": {},
     "output_type": "execute_result"
    }
   ],
   "source": [
    "cm"
   ]
  },
  {
   "cell_type": "code",
   "execution_count": 35,
   "metadata": {},
   "outputs": [],
   "source": [
    "import seaborn as sns"
   ]
  },
  {
   "cell_type": "code",
   "execution_count": 36,
   "metadata": {},
   "outputs": [
    {
     "data": {
      "text/plain": [
       "<AxesSubplot:>"
      ]
     },
     "execution_count": 36,
     "metadata": {},
     "output_type": "execute_result"
    },
    {
     "data": {
      "image/png": "[encoded data removed]",
      "text/plain": [
       "<Figure size 432x288 with 2 Axes>"
      ]
     },
     "metadata": {
      "needs_background": "light"
     },
     "output_type": "display_data"
    }
   ],
   "source": [
    "sns.heatmap(cm, annot=True)"
   ]
  },
  {
   "cell_type": "markdown",
   "metadata": {},
   "source": [
    "## Predicting on single value"
   ]
  },
  {
   "cell_type": "code",
   "execution_count": 37,
   "metadata": {
    "scrolled": true
   },
   "outputs": [],
   "source": [
    "x1 = scaler.transform([[30, 1, 81000]])"
   ]
  },
  {
   "cell_type": "code",
   "execution_count": 38,
   "metadata": {},
   "outputs": [],
   "source": [
    "y1 = model.predict(x1)  "
   ]
  },
  {
   "cell_type": "code",
   "execution_count": 39,
   "metadata": {},
   "outputs": [
    {
     "name": "stdout",
     "output_type": "stream",
     "text": [
      "0.0027991831\n"
     ]
    }
   ],
   "source": [
    "print(y1[0][0])  #list value  "
   ]
  },
  {
   "cell_type": "markdown",
   "metadata": {},
   "source": [
    "## Save Model"
   ]
  },
  {
   "cell_type": "code",
   "execution_count": 40,
   "metadata": {},
   "outputs": [],
   "source": [
    "model.save_weights('w234.h5')"
   ]
  },
  {
   "cell_type": "markdown",
   "metadata": {},
   "source": [
    "reload model"
   ]
  },
  {
   "cell_type": "code",
   "execution_count": 41,
   "metadata": {},
   "outputs": [],
   "source": [
    "from tensorflow.keras.models import Sequential\n",
    "from tensorflow.keras.layers import Dense\n",
    "\n",
    "model2 = Sequential()\n",
    "model2.add(Dense(4, input_dim=3, activation='relu'))\n",
    "model2.add(Dense(10, activation='relu'))\n",
    "model2.add(Dense(5, activation='relu'))\n",
    "model2.add(Dense(1,activation='sigmoid'))   # softmax"
   ]
  },
  {
   "cell_type": "code",
   "execution_count": 42,
   "metadata": {},
   "outputs": [],
   "source": [
    "model2.compile(loss='bce', optimizer='adam', metrics=['accuracy']) # metrics=['accuracy','categorical_crossentropy']"
   ]
  },
  {
   "cell_type": "code",
   "execution_count": 43,
   "metadata": {},
   "outputs": [],
   "source": [
    "model2.load_weights('w234.h5')"
   ]
  },
  {
   "cell_type": "markdown",
   "metadata": {},
   "source": [
    "Exercise"
   ]
  },
  {
   "cell_type": "code",
   "execution_count": null,
   "metadata": {},
   "outputs": [],
   "source": []
  }
 ],
 "metadata": {
  "kernelspec": {
   "display_name": "Python 3",
   "language": "python",
   "name": "python3"
  },
  "language_info": {
   "codemirror_mode": {
    "name": "ipython",
    "version": 3
   },
   "file_extension": ".py",
   "mimetype": "text/x-python",
   "name": "python",
   "nbconvert_exporter": "python",
   "pygments_lexer": "ipython3",
   "version": "3.8.5"
  }
 },
 "nbformat": 4,
 "nbformat_minor": 4
}
