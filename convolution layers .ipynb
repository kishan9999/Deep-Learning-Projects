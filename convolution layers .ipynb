{
 "cells": [
  {
   "cell_type": "markdown",
   "metadata": {},
   "source": [
    "## Model Setup"
   ]
  },
  {
   "cell_type": "code",
   "execution_count": 46,
   "metadata": {},
   "outputs": [
    {
     "name": "stdout",
     "output_type": "stream",
     "text": [
      "Model: \"sequential_29\"\n",
      "_________________________________________________________________\n",
      "Layer (type)                 Output Shape              Param #   \n",
      "=================================================================\n",
      "conv2d_57 (Conv2D)           (None, 26, 26, 32)        320       \n",
      "_________________________________________________________________\n",
      "conv2d_58 (Conv2D)           (None, 22, 24, 32)        9248      \n",
      "_________________________________________________________________\n",
      "conv2d_59 (Conv2D)           (None, 18, 22, 32)        9248      \n",
      "_________________________________________________________________\n",
      "conv2d_60 (Conv2D)           (None, 6, 8, 32)          9248      \n",
      "_________________________________________________________________\n",
      "max_pooling2d_28 (MaxPooling (None, 3, 4, 32)          0         \n",
      "_________________________________________________________________\n",
      "flatten_28 (Flatten)         (None, 384)               0         \n",
      "_________________________________________________________________\n",
      "dense_58 (Dense)             (None, 50)                19250     \n",
      "_________________________________________________________________\n",
      "dense_59 (Dense)             (None, 10)                510       \n",
      "=================================================================\n",
      "Total params: 47,824\n",
      "Trainable params: 47,824\n",
      "Non-trainable params: 0\n",
      "_________________________________________________________________\n"
     ]
    }
   ],
   "source": [
    "from tensorflow.keras.models import Sequential\n",
    "from tensorflow.keras.layers import Dense, Conv2D, MaxPooling2D, Flatten\n",
    "\n",
    "model = Sequential()\n",
    "model.add(Conv2D(32, (3, 3), activation='relu', input_shape=(28, 28, 1)))\n",
    "model.add(Conv2D(32, (3, 3), activation='relu', dilation_rate = (2,1)))\n",
    "model.add(Conv2D(32, (3, 3), activation='relu', padding = 'valid', dilation_rate = (2,1)))\n",
    "model.add(Conv2D(32, (3, 3), activation='relu', padding = 'same', strides = 3))\n",
    "model.add(MaxPooling2D((2, 2), strides = 2, padding = 'valid'))\n",
    "model.add(Flatten())\n",
    "model.add(Dense(50, activation='relu'))\n",
    "model.add(Dense(10,activation='softmax')) \n",
    "\n",
    "model.summary()"
   ]
  },
  {
   "cell_type": "code",
   "execution_count": 50,
   "metadata": {},
   "outputs": [
    {
     "name": "stdout",
     "output_type": "stream",
     "text": [
      "Model: \"sequential_33\"\n",
      "_________________________________________________________________\n",
      "Layer (type)                 Output Shape              Param #   \n",
      "=================================================================\n",
      "conv2d_73 (Conv2D)           (None, 26, 26, 32)        320       \n",
      "_________________________________________________________________\n",
      "conv2d_74 (Conv2D)           (None, 22, 24, 32)        9248      \n",
      "_________________________________________________________________\n",
      "conv2d_75 (Conv2D)           (None, 18, 22, 32)        9248      \n",
      "_________________________________________________________________\n",
      "conv2d_76 (Conv2D)           (None, 6, 8, 32)          9248      \n",
      "_________________________________________________________________\n",
      "max_pooling2d_32 (MaxPooling (None, 3, 4, 32)          0         \n",
      "_________________________________________________________________\n",
      "flatten_32 (Flatten)         (None, 384)               0         \n",
      "_________________________________________________________________\n",
      "dense_66 (Dense)             (None, 50)                19250     \n",
      "_________________________________________________________________\n",
      "dense_67 (Dense)             (None, 10)                510       \n",
      "=================================================================\n",
      "Total params: 47,824\n",
      "Trainable params: 47,824\n",
      "Non-trainable params: 0\n",
      "_________________________________________________________________\n"
     ]
    }
   ],
   "source": [
    "from tensorflow.keras.models import Sequential\n",
    "from tensorflow.keras.layers import Dense, Conv2D, MaxPooling2D, Flatten\n",
    "\n",
    "model = Sequential()\n",
    "model.add(Conv2D(32, (3, 3), activation='relu', input_shape=(28, 28, 1)))\n",
    "model.add(Conv2D(32, (3, 3), activation='relu', dilation_rate = (2,1)))\n",
    "model.add(Conv2D(32, (3, 3), activation='relu', padding = 'valid', dilation_rate = (2,1)))\n",
    "model.add(Conv2D(32, (3, 3), activation='relu', padding = 'same', strides = 3))\n",
    "model.add(MaxPooling2D((2, 2), strides = 2, padding = 'same'))\n",
    "model.add(Flatten())\n",
    "model.add(Dense(50, activation='relu'))\n",
    "model.add(Dense(10,activation='softmax')) \n",
    "\n",
    "model.summary()"
   ]
  },
  {
   "cell_type": "code",
   "execution_count": 47,
   "metadata": {},
   "outputs": [
    {
     "name": "stdout",
     "output_type": "stream",
     "text": [
      "Model: \"sequential_30\"\n",
      "_________________________________________________________________\n",
      "Layer (type)                 Output Shape              Param #   \n",
      "=================================================================\n",
      "conv2d_61 (Conv2D)           (None, 26, 26, 32)        320       \n",
      "_________________________________________________________________\n",
      "conv2d_62 (Conv2D)           (None, 22, 24, 32)        9248      \n",
      "_________________________________________________________________\n",
      "conv2d_63 (Conv2D)           (None, 18, 22, 32)        9248      \n",
      "_________________________________________________________________\n",
      "conv2d_64 (Conv2D)           (None, 6, 8, 32)          9248      \n",
      "_________________________________________________________________\n",
      "max_pooling2d_29 (MaxPooling (None, 2, 3, 32)          0         \n",
      "_________________________________________________________________\n",
      "flatten_29 (Flatten)         (None, 192)               0         \n",
      "_________________________________________________________________\n",
      "dense_60 (Dense)             (None, 50)                9650      \n",
      "_________________________________________________________________\n",
      "dense_61 (Dense)             (None, 10)                510       \n",
      "=================================================================\n",
      "Total params: 38,224\n",
      "Trainable params: 38,224\n",
      "Non-trainable params: 0\n",
      "_________________________________________________________________\n"
     ]
    }
   ],
   "source": [
    "from tensorflow.keras.models import Sequential\n",
    "from tensorflow.keras.layers import Dense, Conv2D, MaxPooling2D, Flatten\n",
    "\n",
    "model = Sequential()\n",
    "model.add(Conv2D(32, (3, 3), activation='relu', input_shape=(28, 28, 1)))\n",
    "model.add(Conv2D(32, (3, 3), activation='relu', dilation_rate = (2,1)))\n",
    "model.add(Conv2D(32, (3, 3), activation='relu', padding = 'valid', dilation_rate = (2,1)))\n",
    "model.add(Conv2D(32, (3, 3), activation='relu', padding = 'same', strides = 3))\n",
    "model.add(MaxPooling2D((3, 3), strides = 2, padding = 'valid'))\n",
    "model.add(Flatten())\n",
    "model.add(Dense(50, activation='relu'))\n",
    "model.add(Dense(10,activation='softmax')) \n",
    "\n",
    "model.summary()"
   ]
  },
  {
   "cell_type": "code",
   "execution_count": 48,
   "metadata": {},
   "outputs": [
    {
     "name": "stdout",
     "output_type": "stream",
     "text": [
      "Model: \"sequential_31\"\n",
      "_________________________________________________________________\n",
      "Layer (type)                 Output Shape              Param #   \n",
      "=================================================================\n",
      "conv2d_65 (Conv2D)           (None, 26, 26, 32)        320       \n",
      "_________________________________________________________________\n",
      "conv2d_66 (Conv2D)           (None, 22, 24, 32)        9248      \n",
      "_________________________________________________________________\n",
      "conv2d_67 (Conv2D)           (None, 18, 22, 32)        9248      \n",
      "_________________________________________________________________\n",
      "conv2d_68 (Conv2D)           (None, 6, 8, 32)          9248      \n",
      "_________________________________________________________________\n",
      "max_pooling2d_30 (MaxPooling (None, 4, 6, 32)          0         \n",
      "_________________________________________________________________\n",
      "flatten_30 (Flatten)         (None, 768)               0         \n",
      "_________________________________________________________________\n",
      "dense_62 (Dense)             (None, 50)                38450     \n",
      "_________________________________________________________________\n",
      "dense_63 (Dense)             (None, 10)                510       \n",
      "=================================================================\n",
      "Total params: 67,024\n",
      "Trainable params: 67,024\n",
      "Non-trainable params: 0\n",
      "_________________________________________________________________\n"
     ]
    }
   ],
   "source": [
    "from tensorflow.keras.models import Sequential\n",
    "from tensorflow.keras.layers import Dense, Conv2D, MaxPooling2D, Flatten\n",
    "\n",
    "model = Sequential()\n",
    "model.add(Conv2D(32, (3, 3), activation='relu', input_shape=(28, 28, 1)))\n",
    "model.add(Conv2D(32, (3, 3), activation='relu', dilation_rate = (2,1)))\n",
    "model.add(Conv2D(32, (3, 3), activation='relu', padding = 'valid', dilation_rate = (2,1)))\n",
    "model.add(Conv2D(32, (3, 3), activation='relu', padding = 'same', strides = 3))\n",
    "model.add(MaxPooling2D((3, 3), strides = 1, padding = 'valid'))\n",
    "model.add(Flatten())\n",
    "model.add(Dense(50, activation='relu'))\n",
    "model.add(Dense(10,activation='softmax')) \n",
    "\n",
    "model.summary()"
   ]
  },
  {
   "cell_type": "code",
   "execution_count": 49,
   "metadata": {},
   "outputs": [
    {
     "name": "stdout",
     "output_type": "stream",
     "text": [
      "Model: \"sequential_32\"\n",
      "_________________________________________________________________\n",
      "Layer (type)                 Output Shape              Param #   \n",
      "=================================================================\n",
      "conv2d_69 (Conv2D)           (None, 26, 26, 32)        320       \n",
      "_________________________________________________________________\n",
      "conv2d_70 (Conv2D)           (None, 22, 24, 32)        9248      \n",
      "_________________________________________________________________\n",
      "conv2d_71 (Conv2D)           (None, 18, 22, 32)        9248      \n",
      "_________________________________________________________________\n",
      "conv2d_72 (Conv2D)           (None, 6, 8, 32)          9248      \n",
      "_________________________________________________________________\n",
      "max_pooling2d_31 (MaxPooling (None, 6, 8, 32)          0         \n",
      "_________________________________________________________________\n",
      "flatten_31 (Flatten)         (None, 1536)              0         \n",
      "_________________________________________________________________\n",
      "dense_64 (Dense)             (None, 50)                76850     \n",
      "_________________________________________________________________\n",
      "dense_65 (Dense)             (None, 10)                510       \n",
      "=================================================================\n",
      "Total params: 105,424\n",
      "Trainable params: 105,424\n",
      "Non-trainable params: 0\n",
      "_________________________________________________________________\n"
     ]
    }
   ],
   "source": [
    "from tensorflow.keras.models import Sequential\n",
    "from tensorflow.keras.layers import Dense, Conv2D, MaxPooling2D, Flatten\n",
    "\n",
    "model = Sequential()\n",
    "model.add(Conv2D(32, (3, 3), activation='relu', input_shape=(28, 28, 1)))\n",
    "model.add(Conv2D(32, (3, 3), activation='relu', dilation_rate = (2,1)))\n",
    "model.add(Conv2D(32, (3, 3), activation='relu', padding = 'valid', dilation_rate = (2,1)))\n",
    "model.add(Conv2D(32, (3, 3), activation='relu', padding = 'same', strides = 3))\n",
    "model.add(MaxPooling2D((3, 3), strides = 1, padding = 'same'))\n",
    "model.add(Flatten())\n",
    "model.add(Dense(50, activation='relu'))\n",
    "model.add(Dense(10,activation='softmax')) \n",
    "\n",
    "model.summary()"
   ]
  },
  {
   "cell_type": "code",
   "execution_count": null,
   "metadata": {},
   "outputs": [],
   "source": []
  }
 ],
 "metadata": {
  "kernelspec": {
   "display_name": "Python 3",
   "language": "python",
   "name": "python3"
  },
  "language_info": {
   "codemirror_mode": {
    "name": "ipython",
    "version": 3
   },
   "file_extension": ".py",
   "mimetype": "text/x-python",
   "name": "python",
   "nbconvert_exporter": "python",
   "pygments_lexer": "ipython3",
   "version": "3.8.5"
  }
 },
 "nbformat": 4,
 "nbformat_minor": 4
}
